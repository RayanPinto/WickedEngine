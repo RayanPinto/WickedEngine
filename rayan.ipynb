{
  "nbformat": 4,
  "nbformat_minor": 0,
  "metadata": {
    "colab": {
      "provenance": [],
      "authorship_tag": "ABX9TyNuEu7KiUZicSJ/AOagn+Lc",
      "include_colab_link": true
    },
    "kernelspec": {
      "name": "python3",
      "display_name": "Python 3"
    },
    "language_info": {
      "name": "python"
    }
  },
  "cells": [
    {
      "cell_type": "markdown",
      "metadata": {
        "id": "view-in-github",
        "colab_type": "text"
      },
      "source": [
        "<a href=\"https://colab.research.google.com/github/RayanPinto/WickedEngine/blob/master/rayan.ipynb\" target=\"_parent\"><img src=\"https://colab.research.google.com/assets/colab-badge.svg\" alt=\"Open In Colab\"/></a>"
      ]
    },
    {
      "cell_type": "code",
      "source": [],
      "metadata": {
        "id": "LOnFDNOHhdoY"
      },
      "execution_count": null,
      "outputs": []
    },
    {
      "cell_type": "code",
      "execution_count": 2,
      "metadata": {
        "colab": {
          "base_uri": "https://localhost:8080/"
        },
        "id": "RAGW2nRgg8v8",
        "outputId": "94e22842-710a-4cb6-cbac-8d65f2a9add8"
      },
      "outputs": [
        {
          "output_type": "stream",
          "name": "stdout",
          "text": [
            "[49, 87, 95, 51, 5, 70, 26, 88, 69, 72]\n"
          ]
        }
      ],
      "source": [
        "# prompt: 10 random numbers\n",
        "\n",
        "import random\n",
        "\n",
        "random_numbers = [random.randint(1, 100) for _ in range(10)]\n",
        "print(random_numbers)\n"
      ]
    },
    {
      "cell_type": "code",
      "source": [
        "# @title Default title text\n",
        "print('hiii')\n",
        "import random\n",
        "randomnum=[random.randint(1,100) for num in range(10)]\n",
        "print(random_numbers)"
      ],
      "metadata": {
        "colab": {
          "base_uri": "https://localhost:8080/"
        },
        "id": "ZSqtFjXChfUH",
        "outputId": "6e9ec453-bad6-4b84-a9fe-7af19703b185"
      },
      "execution_count": 4,
      "outputs": [
        {
          "output_type": "stream",
          "name": "stdout",
          "text": [
            "hiii\n",
            "[49, 87, 95, 51, 5, 70, 26, 88, 69, 72]\n"
          ]
        }
      ]
    }
  ]
}